{
 "cells": [
  {
   "cell_type": "markdown",
   "metadata": {},
   "source": [
    "# Conditional Execution\n",
    "To execute a conditional statement, use `if`, `elseif` and `else`.\n"
   ]
  },
  {
   "cell_type": "code",
   "execution_count": 10,
   "metadata": {
    "collapsed": false
   },
   "outputs": [
    {
     "name": "stdout",
     "output_type": "stream",
     "text": [
      "Seek cover.\n"
     ]
    }
   ],
   "source": [
    "weather = \"tornado\"\n",
    "\n",
    "if weather == \"sunny\" println(\"Enjoy the sunshine.\")\n",
    "    println(\"Put on sunglasses.\")\n",
    "elseif weather == \"cloudy\" println(\"Relax in the shade.\")\n",
    "    else println(\"Seek cover.\")  # same line: 'else', 'println()'\n",
    "end"
   ]
  },
  {
   "cell_type": "markdown",
   "metadata": {},
   "source": [
    "# Iteration\n",
    "To execute a *for loop*, use `for()` function to iterate through start/finish values, *for example*:"
   ]
  },
  {
   "cell_type": "code",
   "execution_count": 11,
   "metadata": {
    "collapsed": false,
    "scrolled": true
   },
   "outputs": [
    {
     "name": "stdout",
     "output_type": "stream",
     "text": [
      "i = 1 \n",
      "i = 2 \n",
      "i = 3 \n",
      "i = 4 \n",
      "i = 5 \n",
      "i = 6 \n",
      "i = 7 \n"
     ]
    }
   ],
   "source": [
    "# same line: 'for'...'println()'...'end'\n",
    "for i in 1:7 println(\"i = $i \") end"
   ]
  },
  {
   "cell_type": "markdown",
   "metadata": {},
   "source": [
    "# DataFrame\n",
    "First import `DataFrames` package, then execute `DataFrame()` function:"
   ]
  },
  {
   "cell_type": "code",
   "execution_count": 18,
   "metadata": {
    "collapsed": false
   },
   "outputs": [
    {
     "data": {
      "text/plain": [
       "5-element Array{String,1}:\n",
       " \"light_crude\" \n",
       " \"heating_oil\" \n",
       " \"natural_gas\" \n",
       " \"unleaded_gas\"\n",
       " \"brent_crude\" "
      ]
     },
     "execution_count": 18,
     "metadata": {},
     "output_type": "execute_result"
    }
   ],
   "source": [
    "using DataFrames  # imports tabular data library\n",
    "commodities = [\"light_crude\", \"heating_oil\", \"natural_gas\", \"unleaded_gas\", \"brent_crude\"]"
   ]
  },
  {
   "cell_type": "code",
   "execution_count": 19,
   "metadata": {
    "collapsed": false
   },
   "outputs": [
    {
     "data": {
      "text/plain": [
       "5-element DataArrays.DataArray{Float64,1}:\n",
       " 43.12\n",
       "  1.39\n",
       "  2.63\n",
       "  1.3 \n",
       " 44.59"
      ]
     },
     "execution_count": 19,
     "metadata": {},
     "output_type": "execute_result"
    }
   ],
   "source": [
    "last = @data([43.12, 1.39, 2.63, 1.30, 44.59])"
   ]
  },
  {
   "cell_type": "code",
   "execution_count": 14,
   "metadata": {
    "collapsed": false
   },
   "outputs": [
    {
     "data": {
      "text/html": [
       "<table class=\"data-frame\"><tr><th></th><th>commod</th><th>last_price</th></tr><tr><th>1</th><td>light_crude</td><td>43.12</td></tr><tr><th>2</th><td>heating_oil</td><td>1.39</td></tr><tr><th>3</th><td>natural_gas</td><td>2.63</td></tr><tr><th>4</th><td>unleaded_gas</td><td>1.3</td></tr><tr><th>5</th><td>brent_crude</td><td>44.59</td></tr></table>"
      ],
      "text/plain": [
       "5×2 DataFrames.DataFrame\n",
       "│ Row │ commod         │ last_price │\n",
       "├─────┼────────────────┼────────────┤\n",
       "│ 1   │ \"light_crude\"  │ 43.12      │\n",
       "│ 2   │ \"heating_oil\"  │ 1.39       │\n",
       "│ 3   │ \"natural_gas\"  │ 2.63       │\n",
       "│ 4   │ \"unleaded_gas\" │ 1.3        │\n",
       "│ 5   │ \"brent_crude\"  │ 44.59      │"
      ]
     },
     "execution_count": 14,
     "metadata": {},
     "output_type": "execute_result"
    }
   ],
   "source": [
    "energy_df = DataFrame(commod = commodities, last_price = last)"
   ]
  },
  {
   "cell_type": "code",
   "execution_count": 15,
   "metadata": {
    "collapsed": false
   },
   "outputs": [
    {
     "data": {
      "text/plain": [
       "5-element DataArrays.DataArray{Float64,1}:\n",
       " 43.12\n",
       "  1.39\n",
       "  2.63\n",
       "  1.3 \n",
       " 44.59"
      ]
     },
     "execution_count": 15,
     "metadata": {},
     "output_type": "execute_result"
    }
   ],
   "source": [
    "energy_df[:last_price]"
   ]
  },
  {
   "cell_type": "code",
   "execution_count": 16,
   "metadata": {
    "collapsed": false
   },
   "outputs": [
    {
     "data": {
      "text/plain": [
       "5-element DataArrays.DataArray{String,1}:\n",
       " \"light_crude\" \n",
       " \"heating_oil\" \n",
       " \"natural_gas\" \n",
       " \"unleaded_gas\"\n",
       " \"brent_crude\" "
      ]
     },
     "execution_count": 16,
     "metadata": {},
     "output_type": "execute_result"
    }
   ],
   "source": [
    "energy_df[:commod]"
   ]
  }
 ],
 "metadata": {
  "anaconda-cloud": {},
  "kernelspec": {
   "display_name": "Julia 0.5.0",
   "language": "julia",
   "name": "julia-0.5"
  },
  "language_info": {
   "file_extension": ".jl",
   "mimetype": "application/julia",
   "name": "julia",
   "version": "0.5.0"
  }
 },
 "nbformat": 4,
 "nbformat_minor": 0
}
