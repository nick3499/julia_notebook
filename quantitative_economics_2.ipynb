{
 "cells": [
  {
   "cell_type": "code",
   "execution_count": 27,
   "metadata": {
    "collapsed": false
   },
   "outputs": [
    {
     "data": {
      "text/plain": [
       "Plots.PlotlyJSBackend()"
      ]
     },
     "execution_count": 27,
     "metadata": {},
     "output_type": "execute_result"
    }
   ],
   "source": [
    "using QuantEcon\n",
    "using Plots\n",
    "plotlyjs()"
   ]
  },
  {
   "cell_type": "code",
   "execution_count": 1,
   "metadata": {
    "collapsed": false
   },
   "outputs": [
    {
     "data": {
      "text/plain": [
       "call_option"
      ]
     },
     "execution_count": 1,
     "metadata": {},
     "output_type": "execute_result"
    }
   ],
   "source": [
    "include(\"asset_pricing.jl\")"
   ]
  },
  {
   "cell_type": "markdown",
   "metadata": {},
   "source": [
    "[asset_pricing.jl](https://raw.githubusercontent.com/QuantEcon/QuantEcon.applications/27fabf3064e3a715281e2a82de755806bf57357e/markov_asset/asset_pricing.jl) needs to be copied into working directory:"
   ]
  },
  {
   "cell_type": "code",
   "execution_count": 28,
   "metadata": {
    "collapsed": false
   },
   "outputs": [
    {
     "name": "stdout",
     "output_type": "stream",
     "text": [
      "Discrete Markov Chain\n",
      "stochastic matrix of type Array{Float64,2}:\n",
      "[0.95 0.0125 0.0125 0.0125 0.0125; 0.0125 0.95 0.0125 0.0125 0.0125; 0.0125 0.0125 0.95 0.0125 0.0125; 0.0125 0.0125 0.0125 0.95 0.0125; 0.0125 0.0125 0.0125 0.0125 0.95]\n"
     ]
    }
   ],
   "source": [
    "n = 5\n",
    "P = 0.0125 .* ones(n, n)\n",
    "P = P .+ diagm(0.95 - 0.0125 .* ones(5))\n",
    "s = [0.95, 0.975, 1.0, 1.025, 1.05]\n",
    "mc = MarkovChain(P, s)\n",
    "println(mc)"
   ]
  },
  {
   "cell_type": "code",
   "execution_count": 29,
   "metadata": {
    "collapsed": false
   },
   "outputs": [
    {
     "name": "stdout",
     "output_type": "stream",
     "text": [
      "AssetPriceModel(0.94,2.0,Discrete Markov Chain\n",
      "stochastic matrix of type Array{Float64,2}:\n",
      "[0.95 0.0125 0.0125 0.0125 0.0125; 0.0125 0.95 0.0125 0.0125 0.0125; 0.0125 0.0125 0.95 0.0125 0.0125; 0.0125 0.0125 0.0125 0.95 0.0125; 0.0125 0.0125 0.0125 0.0125 0.95],5,#20)\n"
     ]
    }
   ],
   "source": [
    "gamma = 2.0\n",
    "beta = 0.94\n",
    "zeta = 1.0\n",
    "p_s = 150.0\n",
    "ap = AssetPriceModel(beta=beta, mc=mc, gamma=gamma, g=x -> x)\n",
    "println(ap)"
   ]
  },
  {
   "cell_type": "code",
   "execution_count": 30,
   "metadata": {
    "collapsed": false
   },
   "outputs": [
    {
     "name": "stdout",
     "output_type": "stream",
     "text": [
      "Lucas Tree Prices: [29.474,21.9357,17.5714,14.7252,12.7222]\n",
      "\n"
     ]
    }
   ],
   "source": [
    "v = tree_price(ap)\n",
    "println(\"Lucas Tree Prices: $v\\n\")"
   ]
  },
  {
   "cell_type": "code",
   "execution_count": 31,
   "metadata": {
    "collapsed": false
   },
   "outputs": [
    {
     "name": "stdout",
     "output_type": "stream",
     "text": [
      "Consol Bond Prices: [753.871,242.551,148.676,109.251,87.5686]\n",
      "\n"
     ]
    }
   ],
   "source": [
    "v_consol = consol_price(ap, 1.0)\n",
    "println(\"Consol Bond Prices: $(v_consol)\\n\")"
   ]
  },
  {
   "cell_type": "code",
   "execution_count": 32,
   "metadata": {
    "collapsed": false
   },
   "outputs": [
    {
     "data": {
      "text/plain": [
       "5×1 Array{Float64,2}:\n",
       " 603.871 \n",
       " 176.839 \n",
       " 108.677 \n",
       "  80.0518\n",
       "  64.3084"
      ]
     },
     "execution_count": 32,
     "metadata": {},
     "output_type": "execute_result"
    }
   ],
   "source": [
    "w = call_option(ap, zeta, p_s)"
   ]
  }
 ],
 "metadata": {
  "anaconda-cloud": {},
  "kernelspec": {
   "display_name": "Julia 0.5.0",
   "language": "julia",
   "name": "julia-0.5"
  },
  "language_info": {
   "file_extension": ".jl",
   "mimetype": "application/julia",
   "name": "julia",
   "version": "0.5.0"
  }
 },
 "nbformat": 4,
 "nbformat_minor": 1
}
